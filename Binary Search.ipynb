{
 "cells": [
  {
   "cell_type": "code",
   "execution_count": 6,
   "metadata": {},
   "outputs": [
    {
     "name": "stdout",
     "output_type": "stream",
     "text": [
      "Your Element is in the index of  4\n"
     ]
    }
   ],
   "source": [
    "def binary_search(arr, l, r, x):\n",
    "    if(r>=l):\n",
    "        mid = l+(r-l)//2\n",
    "        if(arr[mid] == x):\n",
    "            return mid\n",
    "        elif(arr[mid]>x):\n",
    "            return binary_search(arr, l, mid-1, x)\n",
    "        else:\n",
    "            return binary_search(arr, mid+1, r, x)\n",
    "    else:\n",
    "        return -1\n",
    "    \n",
    "arr = [1, 2, 3, 4, 5, 6, 7]\n",
    "x = 5\n",
    "result = binary_search(arr, 0, len(arr)-1, x)\n",
    "if(result == -1):\n",
    "    print(\"the element you have searched is not in the array\")\n",
    "else:\n",
    "    print(\"Your Element is in the index of \", result)\n",
    "        "
   ]
  },
  {
   "cell_type": "code",
   "execution_count": null,
   "metadata": {},
   "outputs": [],
   "source": []
  }
 ],
 "metadata": {
  "kernelspec": {
   "display_name": "Python 3",
   "language": "python",
   "name": "python3"
  },
  "language_info": {
   "codemirror_mode": {
    "name": "ipython",
    "version": 3
   },
   "file_extension": ".py",
   "mimetype": "text/x-python",
   "name": "python",
   "nbconvert_exporter": "python",
   "pygments_lexer": "ipython3",
   "version": "3.7.3"
  }
 },
 "nbformat": 4,
 "nbformat_minor": 2
}
